{
 "cells": [
  {
   "cell_type": "code",
   "execution_count": 1,
   "id": "a156b439",
   "metadata": {
    "_cell_guid": "b1076dfc-b9ad-4769-8c92-a6c4dae69d19",
    "_uuid": "8f2839f25d086af736a60e9eeb907d3b93b6e0e5",
    "execution": {
     "iopub.execute_input": "2025-01-12T07:16:16.354215Z",
     "iopub.status.busy": "2025-01-12T07:16:16.353727Z",
     "iopub.status.idle": "2025-01-12T07:16:17.235771Z",
     "shell.execute_reply": "2025-01-12T07:16:17.233976Z"
    },
    "papermill": {
     "duration": 0.891772,
     "end_time": "2025-01-12T07:16:17.237641",
     "exception": false,
     "start_time": "2025-01-12T07:16:16.345869",
     "status": "completed"
    },
    "tags": []
   },
   "outputs": [
    {
     "name": "stdout",
     "output_type": "stream",
     "text": [
      "/kaggle/input/weather/weather.csv\n"
     ]
    }
   ],
   "source": [
    "# This Python 3 environment comes with many helpful analytics libraries installed\n",
    "# It is defined by the kaggle/python Docker image: https://github.com/kaggle/docker-python\n",
    "# For example, here's several helpful packages to load\n",
    "\n",
    "import numpy as np # linear algebra\n",
    "import pandas as pd # data processing, CSV file I/O (e.g. pd.read_csv)\n",
    "\n",
    "# Input data files are available in the read-only \"../input/\" directory\n",
    "# For example, running this (by clicking run or pressing Shift+Enter) will list all files under the input directory\n",
    "\n",
    "import os\n",
    "for dirname, _, filenames in os.walk('/kaggle/input'):\n",
    "    for filename in filenames:\n",
    "        print(os.path.join(dirname, filename))\n",
    "\n",
    "# You can write up to 20GB to the current directory (/kaggle/working/) that gets preserved as output when you create a version using \"Save & Run All\" \n",
    "# You can also write temporary files to /kaggle/temp/, but they won't be saved outside of the current session"
   ]
  },
  {
   "cell_type": "markdown",
   "id": "cd76c115",
   "metadata": {
    "papermill": {
     "duration": 0.004382,
     "end_time": "2025-01-12T07:16:17.247080",
     "exception": false,
     "start_time": "2025-01-12T07:16:17.242698",
     "status": "completed"
    },
    "tags": []
   },
   "source": [
    "# Libraries"
   ]
  },
  {
   "cell_type": "code",
   "execution_count": 2,
   "id": "2311c4fc",
   "metadata": {
    "execution": {
     "iopub.execute_input": "2025-01-12T07:16:17.257909Z",
     "iopub.status.busy": "2025-01-12T07:16:17.257297Z",
     "iopub.status.idle": "2025-01-12T07:16:27.904645Z",
     "shell.execute_reply": "2025-01-12T07:16:27.903115Z"
    },
    "papermill": {
     "duration": 10.655337,
     "end_time": "2025-01-12T07:16:27.906853",
     "exception": false,
     "start_time": "2025-01-12T07:16:17.251516",
     "status": "completed"
    },
    "tags": []
   },
   "outputs": [],
   "source": [
    "import pandas as pd\n",
    "import numpy as np\n",
    "import requests\n",
    "from sklearn.preprocessing import MinMaxScaler\n",
    "from sklearn.model_selection import train_test_split\n",
    "from sklearn.metrics import mean_squared_error, mean_absolute_error, r2_score\n",
    "from tensorflow.keras.models import Sequential\n",
    "from tensorflow.keras.layers import Dense\n",
    "from tensorflow.keras.callbacks import EarlyStopping"
   ]
  },
  {
   "cell_type": "markdown",
   "id": "5194f2ec",
   "metadata": {
    "papermill": {
     "duration": 0.004109,
     "end_time": "2025-01-12T07:16:27.915947",
     "exception": false,
     "start_time": "2025-01-12T07:16:27.911838",
     "status": "completed"
    },
    "tags": []
   },
   "source": [
    "# Constants"
   ]
  },
  {
   "cell_type": "code",
   "execution_count": 3,
   "id": "5b2b1e99",
   "metadata": {
    "execution": {
     "iopub.execute_input": "2025-01-12T07:16:27.926536Z",
     "iopub.status.busy": "2025-01-12T07:16:27.925828Z",
     "iopub.status.idle": "2025-01-12T07:16:27.930806Z",
     "shell.execute_reply": "2025-01-12T07:16:27.929635Z"
    },
    "papermill": {
     "duration": 0.012428,
     "end_time": "2025-01-12T07:16:27.932741",
     "exception": false,
     "start_time": "2025-01-12T07:16:27.920313",
     "status": "completed"
    },
    "tags": []
   },
   "outputs": [],
   "source": [
    "API_KEY = '902635857ca292a7bc2c9a8ac5aa773b'\n",
    "BASE_URL = 'https://api.openweathermap.org/data/2.5/'"
   ]
  },
  {
   "cell_type": "markdown",
   "id": "580fb035",
   "metadata": {
    "papermill": {
     "duration": 0.004119,
     "end_time": "2025-01-12T07:16:27.941534",
     "exception": false,
     "start_time": "2025-01-12T07:16:27.937415",
     "status": "completed"
    },
    "tags": []
   },
   "source": [
    "# Weather Data"
   ]
  },
  {
   "cell_type": "code",
   "execution_count": 4,
   "id": "60376e55",
   "metadata": {
    "execution": {
     "iopub.execute_input": "2025-01-12T07:16:27.952072Z",
     "iopub.status.busy": "2025-01-12T07:16:27.951622Z",
     "iopub.status.idle": "2025-01-12T07:16:27.961627Z",
     "shell.execute_reply": "2025-01-12T07:16:27.960566Z"
    },
    "papermill": {
     "duration": 0.017578,
     "end_time": "2025-01-12T07:16:27.963539",
     "exception": false,
     "start_time": "2025-01-12T07:16:27.945961",
     "status": "completed"
    },
    "tags": []
   },
   "outputs": [],
   "source": [
    "def get_5day_weather_forecast(city):\n",
    "    url = f\"{BASE_URL}forecast?q={city}&appid={API_KEY}&units=metric\"\n",
    "    response = requests.get(url)\n",
    "    data = response.json()\n",
    "    forecast_data = []\n",
    "\n",
    "    for forecast in data['list']:\n",
    "        forecast_data.append({\n",
    "            'city': data['city']['name'],\n",
    "            'date': forecast['dt_txt'],\n",
    "            'current_temp': round(forecast['main']['temp']),\n",
    "            'feels_like': round(forecast['main']['feels_like']),\n",
    "            'temp_min': round(forecast['main']['temp_min']),\n",
    "            'temp_max': round(forecast['main']['temp_max']),\n",
    "            'humidity': round(forecast['main']['humidity']),\n",
    "            'description': forecast['weather'][0]['description'],\n",
    "            'country': data['city']['country'],\n",
    "            'wind_gust_dir': forecast['wind']['deg'],\n",
    "            'pressure': forecast['main']['pressure'],\n",
    "            'wind_gust_speed': forecast['wind']['speed']\n",
    "        })\n",
    "    \n",
    "    return forecast_data"
   ]
  },
  {
   "cell_type": "markdown",
   "id": "13729494",
   "metadata": {
    "papermill": {
     "duration": 0.004179,
     "end_time": "2025-01-12T07:16:27.972379",
     "exception": false,
     "start_time": "2025-01-12T07:16:27.968200",
     "status": "completed"
    },
    "tags": []
   },
   "source": [
    "# Preparing ANN"
   ]
  },
  {
   "cell_type": "code",
   "execution_count": 5,
   "id": "72105dea",
   "metadata": {
    "execution": {
     "iopub.execute_input": "2025-01-12T07:16:27.982719Z",
     "iopub.status.busy": "2025-01-12T07:16:27.982284Z",
     "iopub.status.idle": "2025-01-12T07:16:27.987842Z",
     "shell.execute_reply": "2025-01-12T07:16:27.986516Z"
    },
    "papermill": {
     "duration": 0.013143,
     "end_time": "2025-01-12T07:16:27.989824",
     "exception": false,
     "start_time": "2025-01-12T07:16:27.976681",
     "status": "completed"
    },
    "tags": []
   },
   "outputs": [],
   "source": [
    "def prepare_data_for_ann(data):\n",
    "    features = ['Temp', 'Humidity', 'WindGustSpeed', 'Pressure']\n",
    "    X = data[features].values\n",
    "    y = data['Temp'].values\n",
    "    \n",
    "    # Normalize data\n",
    "    scaler = MinMaxScaler()\n",
    "    X_scaled = scaler.fit_transform(X)\n",
    "    \n",
    "    return X_scaled, y, scaler"
   ]
  },
  {
   "cell_type": "markdown",
   "id": "a3006950",
   "metadata": {
    "papermill": {
     "duration": 0.004519,
     "end_time": "2025-01-12T07:16:27.999427",
     "exception": false,
     "start_time": "2025-01-12T07:16:27.994908",
     "status": "completed"
    },
    "tags": []
   },
   "source": [
    "# Read Historical Data"
   ]
  },
  {
   "cell_type": "code",
   "execution_count": 6,
   "id": "8233fd31",
   "metadata": {
    "execution": {
     "iopub.execute_input": "2025-01-12T07:16:28.011781Z",
     "iopub.status.busy": "2025-01-12T07:16:28.011383Z",
     "iopub.status.idle": "2025-01-12T07:16:28.016300Z",
     "shell.execute_reply": "2025-01-12T07:16:28.015085Z"
    },
    "papermill": {
     "duration": 0.013038,
     "end_time": "2025-01-12T07:16:28.018079",
     "exception": false,
     "start_time": "2025-01-12T07:16:28.005041",
     "status": "completed"
    },
    "tags": []
   },
   "outputs": [],
   "source": [
    "def read_historical_data(filename):\n",
    "    df = pd.read_csv(filename)\n",
    "    df = df.dropna()\n",
    "    df = df.drop_duplicates()\n",
    "    return df"
   ]
  },
  {
   "cell_type": "markdown",
   "id": "193e2755",
   "metadata": {
    "papermill": {
     "duration": 0.004481,
     "end_time": "2025-01-12T07:16:28.027677",
     "exception": false,
     "start_time": "2025-01-12T07:16:28.023196",
     "status": "completed"
    },
    "tags": []
   },
   "source": [
    "# Build Model"
   ]
  },
  {
   "cell_type": "code",
   "execution_count": 7,
   "id": "e7619cd5",
   "metadata": {
    "execution": {
     "iopub.execute_input": "2025-01-12T07:16:28.038680Z",
     "iopub.status.busy": "2025-01-12T07:16:28.038254Z",
     "iopub.status.idle": "2025-01-12T07:16:28.044301Z",
     "shell.execute_reply": "2025-01-12T07:16:28.042997Z"
    },
    "papermill": {
     "duration": 0.01393,
     "end_time": "2025-01-12T07:16:28.046343",
     "exception": false,
     "start_time": "2025-01-12T07:16:28.032413",
     "status": "completed"
    },
    "tags": []
   },
   "outputs": [],
   "source": [
    "def build_ann_model(input_dim):\n",
    "    model = Sequential()\n",
    "    model.add(Dense(128, input_dim=input_dim, activation='relu'))\n",
    "    model.add(Dense(64, activation='relu'))\n",
    "    model.add(Dense(32, activation='relu')) \n",
    "    model.add(Dense(1, activation='linear'))\n",
    "    model.compile(optimizer='adam', loss='mean_squared_error', metrics=['mae', 'mse'])\n",
    "    return model"
   ]
  },
  {
   "cell_type": "markdown",
   "id": "ff47b478",
   "metadata": {
    "papermill": {
     "duration": 0.004584,
     "end_time": "2025-01-12T07:16:28.056189",
     "exception": false,
     "start_time": "2025-01-12T07:16:28.051605",
     "status": "completed"
    },
    "tags": []
   },
   "source": [
    "# Train Model"
   ]
  },
  {
   "cell_type": "code",
   "execution_count": 8,
   "id": "e42569fe",
   "metadata": {
    "execution": {
     "iopub.execute_input": "2025-01-12T07:16:28.068220Z",
     "iopub.status.busy": "2025-01-12T07:16:28.067779Z",
     "iopub.status.idle": "2025-01-12T07:16:28.073351Z",
     "shell.execute_reply": "2025-01-12T07:16:28.072239Z"
    },
    "papermill": {
     "duration": 0.013803,
     "end_time": "2025-01-12T07:16:28.075422",
     "exception": false,
     "start_time": "2025-01-12T07:16:28.061619",
     "status": "completed"
    },
    "tags": []
   },
   "outputs": [],
   "source": [
    "def train_ann_model(X, y):\n",
    "    model = build_ann_model(X.shape[1])\n",
    "    \n",
    "    early_stopping = EarlyStopping(monitor='val_loss', patience=5, restore_best_weights=True)\n",
    "    \n",
    "    model.fit(X, y, epochs=50, batch_size=32, validation_split=0.2, callbacks=[early_stopping])\n",
    "    return model"
   ]
  },
  {
   "cell_type": "markdown",
   "id": "3dd6d7f1",
   "metadata": {
    "papermill": {
     "duration": 0.004708,
     "end_time": "2025-01-12T07:16:28.085229",
     "exception": false,
     "start_time": "2025-01-12T07:16:28.080521",
     "status": "completed"
    },
    "tags": []
   },
   "source": [
    "# Predict Model"
   ]
  },
  {
   "cell_type": "code",
   "execution_count": 9,
   "id": "6a65e870",
   "metadata": {
    "execution": {
     "iopub.execute_input": "2025-01-12T07:16:28.096073Z",
     "iopub.status.busy": "2025-01-12T07:16:28.095687Z",
     "iopub.status.idle": "2025-01-12T07:16:28.100693Z",
     "shell.execute_reply": "2025-01-12T07:16:28.099259Z"
    },
    "papermill": {
     "duration": 0.012679,
     "end_time": "2025-01-12T07:16:28.102640",
     "exception": false,
     "start_time": "2025-01-12T07:16:28.089961",
     "status": "completed"
    },
    "tags": []
   },
   "outputs": [],
   "source": [
    "def predict_future_temp(model, current_data):\n",
    "    prediction = model.predict(current_data)\n",
    "    return prediction"
   ]
  },
  {
   "cell_type": "markdown",
   "id": "50e3e064",
   "metadata": {
    "papermill": {
     "duration": 0.004524,
     "end_time": "2025-01-12T07:16:28.112428",
     "exception": false,
     "start_time": "2025-01-12T07:16:28.107904",
     "status": "completed"
    },
    "tags": []
   },
   "source": [
    "# Evaluating Model"
   ]
  },
  {
   "cell_type": "code",
   "execution_count": 10,
   "id": "7c106bc4",
   "metadata": {
    "execution": {
     "iopub.execute_input": "2025-01-12T07:16:28.123984Z",
     "iopub.status.busy": "2025-01-12T07:16:28.123588Z",
     "iopub.status.idle": "2025-01-12T07:16:28.128774Z",
     "shell.execute_reply": "2025-01-12T07:16:28.127505Z"
    },
    "papermill": {
     "duration": 0.013329,
     "end_time": "2025-01-12T07:16:28.131043",
     "exception": false,
     "start_time": "2025-01-12T07:16:28.117714",
     "status": "completed"
    },
    "tags": []
   },
   "outputs": [],
   "source": [
    "def evaluate_model(model, X_test, y_test):\n",
    "    predictions = model.predict(X_test)\n",
    "    mse = mean_squared_error(y_test, predictions)\n",
    "    mae = mean_absolute_error(y_test, predictions)\n",
    "    r2 = r2_score(y_test, predictions)\n",
    "    \n",
    "    return mse, mae, r2"
   ]
  },
  {
   "cell_type": "markdown",
   "id": "52d25e84",
   "metadata": {
    "papermill": {
     "duration": 0.004316,
     "end_time": "2025-01-12T07:16:28.140323",
     "exception": false,
     "start_time": "2025-01-12T07:16:28.136007",
     "status": "completed"
    },
    "tags": []
   },
   "source": [
    "# Weather Analysis Function"
   ]
  },
  {
   "cell_type": "code",
   "execution_count": 11,
   "id": "676bcf67",
   "metadata": {
    "execution": {
     "iopub.execute_input": "2025-01-12T07:16:28.151027Z",
     "iopub.status.busy": "2025-01-12T07:16:28.150691Z",
     "iopub.status.idle": "2025-01-12T07:16:28.159803Z",
     "shell.execute_reply": "2025-01-12T07:16:28.158579Z"
    },
    "papermill": {
     "duration": 0.016956,
     "end_time": "2025-01-12T07:16:28.161876",
     "exception": false,
     "start_time": "2025-01-12T07:16:28.144920",
     "status": "completed"
    },
    "tags": []
   },
   "outputs": [],
   "source": [
    "def weather_view():\n",
    "    city = \"Wardha\"\n",
    "    forecast = get_5day_weather_forecast(city)\n",
    "    historical_data = read_historical_data(\"/kaggle/input/weather/weather.csv\")\n",
    "\n",
    "    X, y, scaler = prepare_data_for_ann(historical_data)\n",
    "\n",
    "    X_train, X_test, y_train, y_test = train_test_split(X, y, test_size=0.2, random_state=42)\n",
    "\n",
    "    ann_model = train_ann_model(X_train, y_train)\n",
    "    mse, mae, r2 = evaluate_model(ann_model, X_test, y_test)\n",
    "    print(f\"Model Evaluation:\")\n",
    "    print(f\"Mean Squared Error (MSE): {mse}\")\n",
    "    print(f\"Mean Absolute Error (MAE): {mae}\")\n",
    "    print(f\"R-squared: {r2}\")\n",
    "\n",
    "    predicted_temp = None\n",
    "    for i, day in enumerate(forecast):\n",
    "        if i == 0: \n",
    "            current_data = np.array([[day['current_temp'], \n",
    "                                      day['humidity'], \n",
    "                                      day['wind_gust_speed'], \n",
    "                                      day['pressure']]])\n",
    "        else:\n",
    "            predicted_temp_value = predicted_temp[0][0] if predicted_temp is not None else day['current_temp']\n",
    "            \n",
    "            current_data = np.array([[predicted_temp_value, \n",
    "                                      day['humidity'], \n",
    "                                      day['wind_gust_speed'], \n",
    "                                      day['pressure']]])\n",
    "\n",
    "        current_data_scaled = scaler.transform(current_data)\n",
    "\n",
    "        predicted_temp = predict_future_temp(ann_model, current_data_scaled)\n",
    "\n",
    "        print(f\"Date: {day['date']}\")\n",
    "        print(f\"City: {day['city']}, {day['country']}\")\n",
    "        print(f\"Current Temp: {day['current_temp']}°C\")\n",
    "        print(f\"Minimum Temperature: {day['temp_min']}°C\")\n",
    "        print(f\"Maximum Temperature: {day['temp_max']}°C\")\n",
    "        print(f\"Humidity: {day['humidity']}%\")\n",
    "        print(f\"Weather Description: {day['description']}\")\n",
    "        print(f\"Predicted Future Temperature for Next Day: {round(predicted_temp[0][0], 2)}°C\")\n",
    "        print(\"-\" * 50)\n"
   ]
  },
  {
   "cell_type": "code",
   "execution_count": 12,
   "id": "e5f7ef99",
   "metadata": {
    "execution": {
     "iopub.execute_input": "2025-01-12T07:16:28.173847Z",
     "iopub.status.busy": "2025-01-12T07:16:28.173500Z",
     "iopub.status.idle": "2025-01-12T07:16:37.582060Z",
     "shell.execute_reply": "2025-01-12T07:16:37.580816Z"
    },
    "papermill": {
     "duration": 9.416742,
     "end_time": "2025-01-12T07:16:37.583875",
     "exception": false,
     "start_time": "2025-01-12T07:16:28.167133",
     "status": "completed"
    },
    "tags": []
   },
   "outputs": [
    {
     "name": "stdout",
     "output_type": "stream",
     "text": [
      "Epoch 1/50\n"
     ]
    },
    {
     "name": "stderr",
     "output_type": "stream",
     "text": [
      "/usr/local/lib/python3.10/dist-packages/keras/src/layers/core/dense.py:87: UserWarning: Do not pass an `input_shape`/`input_dim` argument to a layer. When using Sequential models, prefer using an `Input(shape)` object as the first layer in the model instead.\n",
      "  super().__init__(activity_regularizer=activity_regularizer, **kwargs)\n"
     ]
    },
    {
     "name": "stdout",
     "output_type": "stream",
     "text": [
      "\u001b[1m8/8\u001b[0m \u001b[32m━━━━━━━━━━━━━━━━━━━━\u001b[0m\u001b[37m\u001b[0m \u001b[1m2s\u001b[0m 38ms/step - loss: 408.4898 - mae: 18.9886 - mse: 408.4898 - val_loss: 428.7179 - val_mae: 19.6159 - val_mse: 428.7179\n",
      "Epoch 2/50\n",
      "\u001b[1m8/8\u001b[0m \u001b[32m━━━━━━━━━━━━━━━━━━━━\u001b[0m\u001b[37m\u001b[0m \u001b[1m0s\u001b[0m 8ms/step - loss: 384.5277 - mae: 18.4671 - mse: 384.5277 - val_loss: 405.3370 - val_mae: 19.0178 - val_mse: 405.3370\n",
      "Epoch 3/50\n",
      "\u001b[1m8/8\u001b[0m \u001b[32m━━━━━━━━━━━━━━━━━━━━\u001b[0m\u001b[37m\u001b[0m \u001b[1m0s\u001b[0m 8ms/step - loss: 379.5042 - mae: 18.1117 - mse: 379.5042 - val_loss: 371.0484 - val_mae: 18.1015 - val_mse: 371.0484\n",
      "Epoch 4/50\n",
      "\u001b[1m8/8\u001b[0m \u001b[32m━━━━━━━━━━━━━━━━━━━━\u001b[0m\u001b[37m\u001b[0m \u001b[1m0s\u001b[0m 7ms/step - loss: 329.8367 - mae: 16.8155 - mse: 329.8367 - val_loss: 318.9731 - val_mae: 16.6125 - val_mse: 318.9731\n",
      "Epoch 5/50\n",
      "\u001b[1m8/8\u001b[0m \u001b[32m━━━━━━━━━━━━━━━━━━━━\u001b[0m\u001b[37m\u001b[0m \u001b[1m0s\u001b[0m 7ms/step - loss: 283.9748 - mae: 15.3441 - mse: 283.9748 - val_loss: 242.9289 - val_mae: 14.1621 - val_mse: 242.9289\n",
      "Epoch 6/50\n",
      "\u001b[1m8/8\u001b[0m \u001b[32m━━━━━━━━━━━━━━━━━━━━\u001b[0m\u001b[37m\u001b[0m \u001b[1m0s\u001b[0m 7ms/step - loss: 191.8973 - mae: 12.1402 - mse: 191.8973 - val_loss: 147.1426 - val_mae: 10.2749 - val_mse: 147.1426\n",
      "Epoch 7/50\n",
      "\u001b[1m8/8\u001b[0m \u001b[32m━━━━━━━━━━━━━━━━━━━━\u001b[0m\u001b[37m\u001b[0m \u001b[1m0s\u001b[0m 7ms/step - loss: 103.4725 - mae: 8.2791 - mse: 103.4725 - val_loss: 62.9264 - val_mae: 6.4297 - val_mse: 62.9264\n",
      "Epoch 8/50\n",
      "\u001b[1m8/8\u001b[0m \u001b[32m━━━━━━━━━━━━━━━━━━━━\u001b[0m\u001b[37m\u001b[0m \u001b[1m0s\u001b[0m 7ms/step - loss: 46.9150 - mae: 5.5098 - mse: 46.9150 - val_loss: 38.9689 - val_mae: 5.0562 - val_mse: 38.9689\n",
      "Epoch 9/50\n",
      "\u001b[1m8/8\u001b[0m \u001b[32m━━━━━━━━━━━━━━━━━━━━\u001b[0m\u001b[37m\u001b[0m \u001b[1m0s\u001b[0m 7ms/step - loss: 45.0112 - mae: 5.5243 - mse: 45.0112 - val_loss: 37.3334 - val_mae: 5.0617 - val_mse: 37.3334\n",
      "Epoch 10/50\n",
      "\u001b[1m8/8\u001b[0m \u001b[32m━━━━━━━━━━━━━━━━━━━━\u001b[0m\u001b[37m\u001b[0m \u001b[1m0s\u001b[0m 7ms/step - loss: 41.0567 - mae: 5.3708 - mse: 41.0567 - val_loss: 31.5096 - val_mae: 4.4513 - val_mse: 31.5096\n",
      "Epoch 11/50\n",
      "\u001b[1m8/8\u001b[0m \u001b[32m━━━━━━━━━━━━━━━━━━━━\u001b[0m\u001b[37m\u001b[0m \u001b[1m0s\u001b[0m 7ms/step - loss: 31.3016 - mae: 4.5953 - mse: 31.3016 - val_loss: 30.8927 - val_mae: 4.4174 - val_mse: 30.8927\n",
      "Epoch 12/50\n",
      "\u001b[1m8/8\u001b[0m \u001b[32m━━━━━━━━━━━━━━━━━━━━\u001b[0m\u001b[37m\u001b[0m \u001b[1m0s\u001b[0m 7ms/step - loss: 31.7406 - mae: 4.5642 - mse: 31.7406 - val_loss: 27.0140 - val_mae: 4.1522 - val_mse: 27.0140\n",
      "Epoch 13/50\n",
      "\u001b[1m8/8\u001b[0m \u001b[32m━━━━━━━━━━━━━━━━━━━━\u001b[0m\u001b[37m\u001b[0m \u001b[1m0s\u001b[0m 7ms/step - loss: 25.8994 - mae: 4.1693 - mse: 25.8994 - val_loss: 22.0905 - val_mae: 3.7865 - val_mse: 22.0905\n",
      "Epoch 14/50\n",
      "\u001b[1m8/8\u001b[0m \u001b[32m━━━━━━━━━━━━━━━━━━━━\u001b[0m\u001b[37m\u001b[0m \u001b[1m0s\u001b[0m 7ms/step - loss: 22.1932 - mae: 3.9114 - mse: 22.1932 - val_loss: 19.3084 - val_mae: 3.5597 - val_mse: 19.3084\n",
      "Epoch 15/50\n",
      "\u001b[1m8/8\u001b[0m \u001b[32m━━━━━━━━━━━━━━━━━━━━\u001b[0m\u001b[37m\u001b[0m \u001b[1m0s\u001b[0m 7ms/step - loss: 20.3699 - mae: 3.7700 - mse: 20.3699 - val_loss: 16.7870 - val_mae: 3.3359 - val_mse: 16.7870\n",
      "Epoch 16/50\n",
      "\u001b[1m8/8\u001b[0m \u001b[32m━━━━━━━━━━━━━━━━━━━━\u001b[0m\u001b[37m\u001b[0m \u001b[1m0s\u001b[0m 6ms/step - loss: 15.7410 - mae: 3.2661 - mse: 15.7410 - val_loss: 13.9872 - val_mae: 3.0648 - val_mse: 13.9872\n",
      "Epoch 17/50\n",
      "\u001b[1m8/8\u001b[0m \u001b[32m━━━━━━━━━━━━━━━━━━━━\u001b[0m\u001b[37m\u001b[0m \u001b[1m0s\u001b[0m 6ms/step - loss: 14.7406 - mae: 3.1442 - mse: 14.7406 - val_loss: 11.7340 - val_mae: 2.8391 - val_mse: 11.7340\n",
      "Epoch 18/50\n",
      "\u001b[1m8/8\u001b[0m \u001b[32m━━━━━━━━━━━━━━━━━━━━\u001b[0m\u001b[37m\u001b[0m \u001b[1m0s\u001b[0m 7ms/step - loss: 11.6251 - mae: 2.7760 - mse: 11.6251 - val_loss: 9.2792 - val_mae: 2.5256 - val_mse: 9.2792\n",
      "Epoch 19/50\n",
      "\u001b[1m8/8\u001b[0m \u001b[32m━━━━━━━━━━━━━━━━━━━━\u001b[0m\u001b[37m\u001b[0m \u001b[1m0s\u001b[0m 7ms/step - loss: 9.8181 - mae: 2.6075 - mse: 9.8181 - val_loss: 7.4707 - val_mae: 2.2903 - val_mse: 7.4707\n",
      "Epoch 20/50\n",
      "\u001b[1m8/8\u001b[0m \u001b[32m━━━━━━━━━━━━━━━━━━━━\u001b[0m\u001b[37m\u001b[0m \u001b[1m0s\u001b[0m 7ms/step - loss: 7.7898 - mae: 2.2635 - mse: 7.7898 - val_loss: 6.1456 - val_mae: 2.1065 - val_mse: 6.1456\n",
      "Epoch 21/50\n",
      "\u001b[1m8/8\u001b[0m \u001b[32m━━━━━━━━━━━━━━━━━━━━\u001b[0m\u001b[37m\u001b[0m \u001b[1m0s\u001b[0m 7ms/step - loss: 6.3688 - mae: 2.0363 - mse: 6.3688 - val_loss: 4.6908 - val_mae: 1.8609 - val_mse: 4.6908\n",
      "Epoch 22/50\n",
      "\u001b[1m8/8\u001b[0m \u001b[32m━━━━━━━━━━━━━━━━━━━━\u001b[0m\u001b[37m\u001b[0m \u001b[1m0s\u001b[0m 7ms/step - loss: 4.4588 - mae: 1.6906 - mse: 4.4588 - val_loss: 3.6645 - val_mae: 1.6456 - val_mse: 3.6645\n",
      "Epoch 23/50\n",
      "\u001b[1m8/8\u001b[0m \u001b[32m━━━━━━━━━━━━━━━━━━━━\u001b[0m\u001b[37m\u001b[0m \u001b[1m0s\u001b[0m 7ms/step - loss: 3.2967 - mae: 1.4576 - mse: 3.2967 - val_loss: 2.8598 - val_mae: 1.4458 - val_mse: 2.8598\n",
      "Epoch 24/50\n",
      "\u001b[1m8/8\u001b[0m \u001b[32m━━━━━━━━━━━━━━━━━━━━\u001b[0m\u001b[37m\u001b[0m \u001b[1m0s\u001b[0m 7ms/step - loss: 2.9331 - mae: 1.3745 - mse: 2.9331 - val_loss: 2.2238 - val_mae: 1.2537 - val_mse: 2.2238\n",
      "Epoch 25/50\n",
      "\u001b[1m8/8\u001b[0m \u001b[32m━━━━━━━━━━━━━━━━━━━━\u001b[0m\u001b[37m\u001b[0m \u001b[1m0s\u001b[0m 7ms/step - loss: 2.2077 - mae: 1.1869 - mse: 2.2077 - val_loss: 1.7385 - val_mae: 1.0742 - val_mse: 1.7385\n",
      "Epoch 26/50\n",
      "\u001b[1m8/8\u001b[0m \u001b[32m━━━━━━━━━━━━━━━━━━━━\u001b[0m\u001b[37m\u001b[0m \u001b[1m0s\u001b[0m 7ms/step - loss: 1.6833 - mae: 1.0195 - mse: 1.6833 - val_loss: 1.4183 - val_mae: 0.9448 - val_mse: 1.4183\n",
      "Epoch 27/50\n",
      "\u001b[1m8/8\u001b[0m \u001b[32m━━━━━━━━━━━━━━━━━━━━\u001b[0m\u001b[37m\u001b[0m \u001b[1m0s\u001b[0m 7ms/step - loss: 1.4411 - mae: 0.9191 - mse: 1.4411 - val_loss: 1.1585 - val_mae: 0.8430 - val_mse: 1.1585\n",
      "Epoch 28/50\n",
      "\u001b[1m8/8\u001b[0m \u001b[32m━━━━━━━━━━━━━━━━━━━━\u001b[0m\u001b[37m\u001b[0m \u001b[1m0s\u001b[0m 7ms/step - loss: 1.1646 - mae: 0.8414 - mse: 1.1646 - val_loss: 0.9147 - val_mae: 0.7402 - val_mse: 0.9147\n",
      "Epoch 29/50\n",
      "\u001b[1m8/8\u001b[0m \u001b[32m━━━━━━━━━━━━━━━━━━━━\u001b[0m\u001b[37m\u001b[0m \u001b[1m0s\u001b[0m 7ms/step - loss: 0.8940 - mae: 0.7181 - mse: 0.8940 - val_loss: 0.7405 - val_mae: 0.6685 - val_mse: 0.7405\n",
      "Epoch 30/50\n",
      "\u001b[1m8/8\u001b[0m \u001b[32m━━━━━━━━━━━━━━━━━━━━\u001b[0m\u001b[37m\u001b[0m \u001b[1m0s\u001b[0m 7ms/step - loss: 0.7157 - mae: 0.6488 - mse: 0.7157 - val_loss: 0.5755 - val_mae: 0.5853 - val_mse: 0.5755\n",
      "Epoch 31/50\n",
      "\u001b[1m8/8\u001b[0m \u001b[32m━━━━━━━━━━━━━━━━━━━━\u001b[0m\u001b[37m\u001b[0m \u001b[1m0s\u001b[0m 7ms/step - loss: 0.6270 - mae: 0.6053 - mse: 0.6270 - val_loss: 0.4480 - val_mae: 0.5197 - val_mse: 0.4480\n",
      "Epoch 32/50\n",
      "\u001b[1m8/8\u001b[0m \u001b[32m━━━━━━━━━━━━━━━━━━━━\u001b[0m\u001b[37m\u001b[0m \u001b[1m0s\u001b[0m 7ms/step - loss: 0.4659 - mae: 0.5286 - mse: 0.4659 - val_loss: 0.3406 - val_mae: 0.4514 - val_mse: 0.3406\n",
      "Epoch 33/50\n",
      "\u001b[1m8/8\u001b[0m \u001b[32m━━━━━━━━━━━━━━━━━━━━\u001b[0m\u001b[37m\u001b[0m \u001b[1m0s\u001b[0m 7ms/step - loss: 0.4127 - mae: 0.4764 - mse: 0.4127 - val_loss: 0.2577 - val_mae: 0.3949 - val_mse: 0.2577\n",
      "Epoch 34/50\n",
      "\u001b[1m8/8\u001b[0m \u001b[32m━━━━━━━━━━━━━━━━━━━━\u001b[0m\u001b[37m\u001b[0m \u001b[1m0s\u001b[0m 7ms/step - loss: 0.3161 - mae: 0.4118 - mse: 0.3161 - val_loss: 0.1844 - val_mae: 0.3333 - val_mse: 0.1844\n",
      "Epoch 35/50\n",
      "\u001b[1m8/8\u001b[0m \u001b[32m━━━━━━━━━━━━━━━━━━━━\u001b[0m\u001b[37m\u001b[0m \u001b[1m0s\u001b[0m 7ms/step - loss: 0.1972 - mae: 0.3298 - mse: 0.1972 - val_loss: 0.1386 - val_mae: 0.2881 - val_mse: 0.1386\n",
      "Epoch 36/50\n",
      "\u001b[1m8/8\u001b[0m \u001b[32m━━━━━━━━━━━━━━━━━━━━\u001b[0m\u001b[37m\u001b[0m \u001b[1m0s\u001b[0m 7ms/step - loss: 0.1612 - mae: 0.3064 - mse: 0.1612 - val_loss: 0.0980 - val_mae: 0.2437 - val_mse: 0.0980\n",
      "Epoch 37/50\n",
      "\u001b[1m8/8\u001b[0m \u001b[32m━━━━━━━━━━━━━━━━━━━━\u001b[0m\u001b[37m\u001b[0m \u001b[1m0s\u001b[0m 8ms/step - loss: 0.1208 - mae: 0.2642 - mse: 0.1208 - val_loss: 0.0721 - val_mae: 0.2112 - val_mse: 0.0721\n",
      "Epoch 38/50\n",
      "\u001b[1m8/8\u001b[0m \u001b[32m━━━━━━━━━━━━━━━━━━━━\u001b[0m\u001b[37m\u001b[0m \u001b[1m0s\u001b[0m 7ms/step - loss: 0.0840 - mae: 0.2270 - mse: 0.0840 - val_loss: 0.0517 - val_mae: 0.1804 - val_mse: 0.0517\n",
      "Epoch 39/50\n",
      "\u001b[1m8/8\u001b[0m \u001b[32m━━━━━━━━━━━━━━━━━━━━\u001b[0m\u001b[37m\u001b[0m \u001b[1m0s\u001b[0m 7ms/step - loss: 0.0754 - mae: 0.2036 - mse: 0.0754 - val_loss: 0.0394 - val_mae: 0.1594 - val_mse: 0.0394\n",
      "Epoch 40/50\n",
      "\u001b[1m8/8\u001b[0m \u001b[32m━━━━━━━━━━━━━━━━━━━━\u001b[0m\u001b[37m\u001b[0m \u001b[1m0s\u001b[0m 7ms/step - loss: 0.0497 - mae: 0.1715 - mse: 0.0497 - val_loss: 0.0291 - val_mae: 0.1388 - val_mse: 0.0291\n",
      "Epoch 41/50\n",
      "\u001b[1m8/8\u001b[0m \u001b[32m━━━━━━━━━━━━━━━━━━━━\u001b[0m\u001b[37m\u001b[0m \u001b[1m0s\u001b[0m 6ms/step - loss: 0.0402 - mae: 0.1473 - mse: 0.0402 - val_loss: 0.0232 - val_mae: 0.1254 - val_mse: 0.0232\n",
      "Epoch 42/50\n",
      "\u001b[1m8/8\u001b[0m \u001b[32m━━━━━━━━━━━━━━━━━━━━\u001b[0m\u001b[37m\u001b[0m \u001b[1m0s\u001b[0m 7ms/step - loss: 0.0379 - mae: 0.1421 - mse: 0.0379 - val_loss: 0.0197 - val_mae: 0.1159 - val_mse: 0.0197\n",
      "Epoch 43/50\n",
      "\u001b[1m8/8\u001b[0m \u001b[32m━━━━━━━━━━━━━━━━━━━━\u001b[0m\u001b[37m\u001b[0m \u001b[1m0s\u001b[0m 7ms/step - loss: 0.0296 - mae: 0.1310 - mse: 0.0296 - val_loss: 0.0192 - val_mae: 0.1171 - val_mse: 0.0192\n",
      "Epoch 44/50\n",
      "\u001b[1m8/8\u001b[0m \u001b[32m━━━━━━━━━━━━━━━━━━━━\u001b[0m\u001b[37m\u001b[0m \u001b[1m0s\u001b[0m 7ms/step - loss: 0.0398 - mae: 0.1436 - mse: 0.0398 - val_loss: 0.0162 - val_mae: 0.1026 - val_mse: 0.0162\n",
      "Epoch 45/50\n",
      "\u001b[1m8/8\u001b[0m \u001b[32m━━━━━━━━━━━━━━━━━━━━\u001b[0m\u001b[37m\u001b[0m \u001b[1m0s\u001b[0m 7ms/step - loss: 0.0297 - mae: 0.1323 - mse: 0.0297 - val_loss: 0.0165 - val_mae: 0.1041 - val_mse: 0.0165\n",
      "Epoch 46/50\n",
      "\u001b[1m8/8\u001b[0m \u001b[32m━━━━━━━━━━━━━━━━━━━━\u001b[0m\u001b[37m\u001b[0m \u001b[1m0s\u001b[0m 7ms/step - loss: 0.0267 - mae: 0.1175 - mse: 0.0267 - val_loss: 0.0111 - val_mae: 0.0860 - val_mse: 0.0111\n",
      "Epoch 47/50\n",
      "\u001b[1m8/8\u001b[0m \u001b[32m━━━━━━━━━━━━━━━━━━━━\u001b[0m\u001b[37m\u001b[0m \u001b[1m0s\u001b[0m 7ms/step - loss: 0.0281 - mae: 0.1065 - mse: 0.0281 - val_loss: 0.0123 - val_mae: 0.0902 - val_mse: 0.0123\n",
      "Epoch 48/50\n",
      "\u001b[1m8/8\u001b[0m \u001b[32m━━━━━━━━━━━━━━━━━━━━\u001b[0m\u001b[37m\u001b[0m \u001b[1m0s\u001b[0m 7ms/step - loss: 0.0242 - mae: 0.1044 - mse: 0.0242 - val_loss: 0.0094 - val_mae: 0.0792 - val_mse: 0.0094\n",
      "Epoch 49/50\n",
      "\u001b[1m8/8\u001b[0m \u001b[32m━━━━━━━━━━━━━━━━━━━━\u001b[0m\u001b[37m\u001b[0m \u001b[1m0s\u001b[0m 7ms/step - loss: 0.0223 - mae: 0.0993 - mse: 0.0223 - val_loss: 0.0097 - val_mae: 0.0802 - val_mse: 0.0097\n",
      "Epoch 50/50\n",
      "\u001b[1m8/8\u001b[0m \u001b[32m━━━━━━━━━━━━━━━━━━━━\u001b[0m\u001b[37m\u001b[0m \u001b[1m0s\u001b[0m 7ms/step - loss: 0.0218 - mae: 0.1013 - mse: 0.0218 - val_loss: 0.0084 - val_mae: 0.0746 - val_mse: 0.0084\n",
      "\u001b[1m3/3\u001b[0m \u001b[32m━━━━━━━━━━━━━━━━━━━━\u001b[0m\u001b[37m\u001b[0m \u001b[1m0s\u001b[0m 21ms/step\n",
      "Model Evaluation:\n",
      "Mean Squared Error (MSE): 0.007642675821886903\n",
      "Mean Absolute Error (MAE): 0.0689463994274402\n",
      "R-squared: 0.9997979704920189\n",
      "\u001b[1m1/1\u001b[0m \u001b[32m━━━━━━━━━━━━━━━━━━━━\u001b[0m\u001b[37m\u001b[0m \u001b[1m0s\u001b[0m 21ms/step\n",
      "Date: 2025-01-12 09:00:00\n",
      "City: Wardha, IN\n",
      "Current Temp: 27°C\n",
      "Minimum Temperature: 27°C\n",
      "Maximum Temperature: 29°C\n",
      "Humidity: 41%\n",
      "Weather Description: scattered clouds\n",
      "Predicted Future Temperature for Next Day: 26.729999542236328°C\n",
      "--------------------------------------------------\n",
      "\u001b[1m1/1\u001b[0m \u001b[32m━━━━━━━━━━━━━━━━━━━━\u001b[0m\u001b[37m\u001b[0m \u001b[1m0s\u001b[0m 22ms/step\n",
      "Date: 2025-01-12 12:00:00\n",
      "City: Wardha, IN\n",
      "Current Temp: 26°C\n",
      "Minimum Temperature: 26°C\n",
      "Maximum Temperature: 27°C\n",
      "Humidity: 41%\n",
      "Weather Description: scattered clouds\n",
      "Predicted Future Temperature for Next Day: 26.440000534057617°C\n",
      "--------------------------------------------------\n",
      "\u001b[1m1/1\u001b[0m \u001b[32m━━━━━━━━━━━━━━━━━━━━\u001b[0m\u001b[37m\u001b[0m \u001b[1m0s\u001b[0m 21ms/step\n",
      "Date: 2025-01-12 15:00:00\n",
      "City: Wardha, IN\n",
      "Current Temp: 24°C\n",
      "Minimum Temperature: 24°C\n",
      "Maximum Temperature: 24°C\n",
      "Humidity: 46%\n",
      "Weather Description: scattered clouds\n",
      "Predicted Future Temperature for Next Day: 26.200000762939453°C\n",
      "--------------------------------------------------\n",
      "\u001b[1m1/1\u001b[0m \u001b[32m━━━━━━━━━━━━━━━━━━━━\u001b[0m\u001b[37m\u001b[0m \u001b[1m0s\u001b[0m 23ms/step\n",
      "Date: 2025-01-12 18:00:00\n",
      "City: Wardha, IN\n",
      "Current Temp: 22°C\n",
      "Minimum Temperature: 22°C\n",
      "Maximum Temperature: 22°C\n",
      "Humidity: 52%\n",
      "Weather Description: broken clouds\n",
      "Predicted Future Temperature for Next Day: 25.889999389648438°C\n",
      "--------------------------------------------------\n",
      "\u001b[1m1/1\u001b[0m \u001b[32m━━━━━━━━━━━━━━━━━━━━\u001b[0m\u001b[37m\u001b[0m \u001b[1m0s\u001b[0m 22ms/step\n",
      "Date: 2025-01-12 21:00:00\n",
      "City: Wardha, IN\n",
      "Current Temp: 22°C\n",
      "Minimum Temperature: 22°C\n",
      "Maximum Temperature: 22°C\n",
      "Humidity: 51%\n",
      "Weather Description: broken clouds\n",
      "Predicted Future Temperature for Next Day: 25.610000610351562°C\n",
      "--------------------------------------------------\n",
      "\u001b[1m1/1\u001b[0m \u001b[32m━━━━━━━━━━━━━━━━━━━━\u001b[0m\u001b[37m\u001b[0m \u001b[1m0s\u001b[0m 21ms/step\n",
      "Date: 2025-01-13 00:00:00\n",
      "City: Wardha, IN\n",
      "Current Temp: 20°C\n",
      "Minimum Temperature: 20°C\n",
      "Maximum Temperature: 20°C\n",
      "Humidity: 57%\n",
      "Weather Description: broken clouds\n",
      "Predicted Future Temperature for Next Day: 25.299999237060547°C\n",
      "--------------------------------------------------\n",
      "\u001b[1m1/1\u001b[0m \u001b[32m━━━━━━━━━━━━━━━━━━━━\u001b[0m\u001b[37m\u001b[0m \u001b[1m0s\u001b[0m 21ms/step\n",
      "Date: 2025-01-13 03:00:00\n",
      "City: Wardha, IN\n",
      "Current Temp: 22°C\n",
      "Minimum Temperature: 22°C\n",
      "Maximum Temperature: 22°C\n",
      "Humidity: 49%\n",
      "Weather Description: broken clouds\n",
      "Predicted Future Temperature for Next Day: 25.110000610351562°C\n",
      "--------------------------------------------------\n",
      "\u001b[1m1/1\u001b[0m \u001b[32m━━━━━━━━━━━━━━━━━━━━\u001b[0m\u001b[37m\u001b[0m \u001b[1m0s\u001b[0m 23ms/step\n",
      "Date: 2025-01-13 06:00:00\n",
      "City: Wardha, IN\n",
      "Current Temp: 26°C\n",
      "Minimum Temperature: 26°C\n",
      "Maximum Temperature: 26°C\n",
      "Humidity: 39%\n",
      "Weather Description: scattered clouds\n",
      "Predicted Future Temperature for Next Day: 25.020000457763672°C\n",
      "--------------------------------------------------\n",
      "\u001b[1m1/1\u001b[0m \u001b[32m━━━━━━━━━━━━━━━━━━━━\u001b[0m\u001b[37m\u001b[0m \u001b[1m0s\u001b[0m 22ms/step\n",
      "Date: 2025-01-13 09:00:00\n",
      "City: Wardha, IN\n",
      "Current Temp: 28°C\n",
      "Minimum Temperature: 28°C\n",
      "Maximum Temperature: 28°C\n",
      "Humidity: 35%\n",
      "Weather Description: clear sky\n",
      "Predicted Future Temperature for Next Day: 24.850000381469727°C\n",
      "--------------------------------------------------\n",
      "\u001b[1m1/1\u001b[0m \u001b[32m━━━━━━━━━━━━━━━━━━━━\u001b[0m\u001b[37m\u001b[0m \u001b[1m0s\u001b[0m 21ms/step\n",
      "Date: 2025-01-13 12:00:00\n",
      "City: Wardha, IN\n",
      "Current Temp: 27°C\n",
      "Minimum Temperature: 27°C\n",
      "Maximum Temperature: 27°C\n",
      "Humidity: 40%\n",
      "Weather Description: clear sky\n",
      "Predicted Future Temperature for Next Day: 24.65999984741211°C\n",
      "--------------------------------------------------\n",
      "\u001b[1m1/1\u001b[0m \u001b[32m━━━━━━━━━━━━━━━━━━━━\u001b[0m\u001b[37m\u001b[0m \u001b[1m0s\u001b[0m 21ms/step\n",
      "Date: 2025-01-13 15:00:00\n",
      "City: Wardha, IN\n",
      "Current Temp: 23°C\n",
      "Minimum Temperature: 23°C\n",
      "Maximum Temperature: 23°C\n",
      "Humidity: 47%\n",
      "Weather Description: clear sky\n",
      "Predicted Future Temperature for Next Day: 24.479999542236328°C\n",
      "--------------------------------------------------\n",
      "\u001b[1m1/1\u001b[0m \u001b[32m━━━━━━━━━━━━━━━━━━━━\u001b[0m\u001b[37m\u001b[0m \u001b[1m0s\u001b[0m 23ms/step\n",
      "Date: 2025-01-13 18:00:00\n",
      "City: Wardha, IN\n",
      "Current Temp: 22°C\n",
      "Minimum Temperature: 22°C\n",
      "Maximum Temperature: 22°C\n",
      "Humidity: 49%\n",
      "Weather Description: clear sky\n",
      "Predicted Future Temperature for Next Day: 24.280000686645508°C\n",
      "--------------------------------------------------\n",
      "\u001b[1m1/1\u001b[0m \u001b[32m━━━━━━━━━━━━━━━━━━━━\u001b[0m\u001b[37m\u001b[0m \u001b[1m0s\u001b[0m 21ms/step\n",
      "Date: 2025-01-13 21:00:00\n",
      "City: Wardha, IN\n",
      "Current Temp: 19°C\n",
      "Minimum Temperature: 19°C\n",
      "Maximum Temperature: 19°C\n",
      "Humidity: 47%\n",
      "Weather Description: clear sky\n",
      "Predicted Future Temperature for Next Day: 24.1299991607666°C\n",
      "--------------------------------------------------\n",
      "\u001b[1m1/1\u001b[0m \u001b[32m━━━━━━━━━━━━━━━━━━━━\u001b[0m\u001b[37m\u001b[0m \u001b[1m0s\u001b[0m 22ms/step\n",
      "Date: 2025-01-14 00:00:00\n",
      "City: Wardha, IN\n",
      "Current Temp: 17°C\n",
      "Minimum Temperature: 17°C\n",
      "Maximum Temperature: 17°C\n",
      "Humidity: 47%\n",
      "Weather Description: clear sky\n",
      "Predicted Future Temperature for Next Day: 23.989999771118164°C\n",
      "--------------------------------------------------\n",
      "\u001b[1m1/1\u001b[0m \u001b[32m━━━━━━━━━━━━━━━━━━━━\u001b[0m\u001b[37m\u001b[0m \u001b[1m0s\u001b[0m 20ms/step\n",
      "Date: 2025-01-14 03:00:00\n",
      "City: Wardha, IN\n",
      "Current Temp: 20°C\n",
      "Minimum Temperature: 20°C\n",
      "Maximum Temperature: 20°C\n",
      "Humidity: 40%\n",
      "Weather Description: clear sky\n",
      "Predicted Future Temperature for Next Day: 23.959999084472656°C\n",
      "--------------------------------------------------\n",
      "\u001b[1m1/1\u001b[0m \u001b[32m━━━━━━━━━━━━━━━━━━━━\u001b[0m\u001b[37m\u001b[0m \u001b[1m0s\u001b[0m 21ms/step\n",
      "Date: 2025-01-14 06:00:00\n",
      "City: Wardha, IN\n",
      "Current Temp: 27°C\n",
      "Minimum Temperature: 27°C\n",
      "Maximum Temperature: 27°C\n",
      "Humidity: 34%\n",
      "Weather Description: clear sky\n",
      "Predicted Future Temperature for Next Day: 23.940000534057617°C\n",
      "--------------------------------------------------\n",
      "\u001b[1m1/1\u001b[0m \u001b[32m━━━━━━━━━━━━━━━━━━━━\u001b[0m\u001b[37m\u001b[0m \u001b[1m0s\u001b[0m 21ms/step\n",
      "Date: 2025-01-14 09:00:00\n",
      "City: Wardha, IN\n",
      "Current Temp: 30°C\n",
      "Minimum Temperature: 30°C\n",
      "Maximum Temperature: 30°C\n",
      "Humidity: 29%\n",
      "Weather Description: clear sky\n",
      "Predicted Future Temperature for Next Day: 23.920000076293945°C\n",
      "--------------------------------------------------\n",
      "\u001b[1m1/1\u001b[0m \u001b[32m━━━━━━━━━━━━━━━━━━━━\u001b[0m\u001b[37m\u001b[0m \u001b[1m0s\u001b[0m 22ms/step\n",
      "Date: 2025-01-14 12:00:00\n",
      "City: Wardha, IN\n",
      "Current Temp: 27°C\n",
      "Minimum Temperature: 27°C\n",
      "Maximum Temperature: 27°C\n",
      "Humidity: 35%\n",
      "Weather Description: clear sky\n",
      "Predicted Future Temperature for Next Day: 23.829999923706055°C\n",
      "--------------------------------------------------\n",
      "\u001b[1m1/1\u001b[0m \u001b[32m━━━━━━━━━━━━━━━━━━━━\u001b[0m\u001b[37m\u001b[0m \u001b[1m0s\u001b[0m 20ms/step\n",
      "Date: 2025-01-14 15:00:00\n",
      "City: Wardha, IN\n",
      "Current Temp: 24°C\n",
      "Minimum Temperature: 24°C\n",
      "Maximum Temperature: 24°C\n",
      "Humidity: 41%\n",
      "Weather Description: clear sky\n",
      "Predicted Future Temperature for Next Day: 23.729999542236328°C\n",
      "--------------------------------------------------\n",
      "\u001b[1m1/1\u001b[0m \u001b[32m━━━━━━━━━━━━━━━━━━━━\u001b[0m\u001b[37m\u001b[0m \u001b[1m0s\u001b[0m 21ms/step\n",
      "Date: 2025-01-14 18:00:00\n",
      "City: Wardha, IN\n",
      "Current Temp: 22°C\n",
      "Minimum Temperature: 22°C\n",
      "Maximum Temperature: 22°C\n",
      "Humidity: 42%\n",
      "Weather Description: clear sky\n",
      "Predicted Future Temperature for Next Day: 23.649999618530273°C\n",
      "--------------------------------------------------\n",
      "\u001b[1m1/1\u001b[0m \u001b[32m━━━━━━━━━━━━━━━━━━━━\u001b[0m\u001b[37m\u001b[0m \u001b[1m0s\u001b[0m 22ms/step\n",
      "Date: 2025-01-14 21:00:00\n",
      "City: Wardha, IN\n",
      "Current Temp: 20°C\n",
      "Minimum Temperature: 20°C\n",
      "Maximum Temperature: 20°C\n",
      "Humidity: 46%\n",
      "Weather Description: few clouds\n",
      "Predicted Future Temperature for Next Day: 23.56999969482422°C\n",
      "--------------------------------------------------\n",
      "\u001b[1m1/1\u001b[0m \u001b[32m━━━━━━━━━━━━━━━━━━━━\u001b[0m\u001b[37m\u001b[0m \u001b[1m0s\u001b[0m 22ms/step\n",
      "Date: 2025-01-15 00:00:00\n",
      "City: Wardha, IN\n",
      "Current Temp: 18°C\n",
      "Minimum Temperature: 18°C\n",
      "Maximum Temperature: 18°C\n",
      "Humidity: 52%\n",
      "Weather Description: scattered clouds\n",
      "Predicted Future Temperature for Next Day: 23.469999313354492°C\n",
      "--------------------------------------------------\n",
      "\u001b[1m1/1\u001b[0m \u001b[32m━━━━━━━━━━━━━━━━━━━━\u001b[0m\u001b[37m\u001b[0m \u001b[1m0s\u001b[0m 23ms/step\n",
      "Date: 2025-01-15 03:00:00\n",
      "City: Wardha, IN\n",
      "Current Temp: 20°C\n",
      "Minimum Temperature: 20°C\n",
      "Maximum Temperature: 20°C\n",
      "Humidity: 41%\n",
      "Weather Description: overcast clouds\n",
      "Predicted Future Temperature for Next Day: 23.43000030517578°C\n",
      "--------------------------------------------------\n",
      "\u001b[1m1/1\u001b[0m \u001b[32m━━━━━━━━━━━━━━━━━━━━\u001b[0m\u001b[37m\u001b[0m \u001b[1m0s\u001b[0m 23ms/step\n",
      "Date: 2025-01-15 06:00:00\n",
      "City: Wardha, IN\n",
      "Current Temp: 28°C\n",
      "Minimum Temperature: 28°C\n",
      "Maximum Temperature: 28°C\n",
      "Humidity: 27%\n",
      "Weather Description: overcast clouds\n",
      "Predicted Future Temperature for Next Day: 23.440000534057617°C\n",
      "--------------------------------------------------\n",
      "\u001b[1m1/1\u001b[0m \u001b[32m━━━━━━━━━━━━━━━━━━━━\u001b[0m\u001b[37m\u001b[0m \u001b[1m0s\u001b[0m 21ms/step\n",
      "Date: 2025-01-15 09:00:00\n",
      "City: Wardha, IN\n",
      "Current Temp: 30°C\n",
      "Minimum Temperature: 30°C\n",
      "Maximum Temperature: 30°C\n",
      "Humidity: 26%\n",
      "Weather Description: overcast clouds\n",
      "Predicted Future Temperature for Next Day: 23.459999084472656°C\n",
      "--------------------------------------------------\n",
      "\u001b[1m1/1\u001b[0m \u001b[32m━━━━━━━━━━━━━━━━━━━━\u001b[0m\u001b[37m\u001b[0m \u001b[1m0s\u001b[0m 20ms/step\n",
      "Date: 2025-01-15 12:00:00\n",
      "City: Wardha, IN\n",
      "Current Temp: 28°C\n",
      "Minimum Temperature: 28°C\n",
      "Maximum Temperature: 28°C\n",
      "Humidity: 34%\n",
      "Weather Description: broken clouds\n",
      "Predicted Future Temperature for Next Day: 23.360000610351562°C\n",
      "--------------------------------------------------\n",
      "\u001b[1m1/1\u001b[0m \u001b[32m━━━━━━━━━━━━━━━━━━━━\u001b[0m\u001b[37m\u001b[0m \u001b[1m0s\u001b[0m 21ms/step\n",
      "Date: 2025-01-15 15:00:00\n",
      "City: Wardha, IN\n",
      "Current Temp: 24°C\n",
      "Minimum Temperature: 24°C\n",
      "Maximum Temperature: 24°C\n",
      "Humidity: 38%\n",
      "Weather Description: overcast clouds\n",
      "Predicted Future Temperature for Next Day: 23.31999969482422°C\n",
      "--------------------------------------------------\n",
      "\u001b[1m1/1\u001b[0m \u001b[32m━━━━━━━━━━━━━━━━━━━━\u001b[0m\u001b[37m\u001b[0m \u001b[1m0s\u001b[0m 23ms/step\n",
      "Date: 2025-01-15 18:00:00\n",
      "City: Wardha, IN\n",
      "Current Temp: 22°C\n",
      "Minimum Temperature: 22°C\n",
      "Maximum Temperature: 22°C\n",
      "Humidity: 42%\n",
      "Weather Description: overcast clouds\n",
      "Predicted Future Temperature for Next Day: 23.280000686645508°C\n",
      "--------------------------------------------------\n",
      "\u001b[1m1/1\u001b[0m \u001b[32m━━━━━━━━━━━━━━━━━━━━\u001b[0m\u001b[37m\u001b[0m \u001b[1m0s\u001b[0m 23ms/step\n",
      "Date: 2025-01-15 21:00:00\n",
      "City: Wardha, IN\n",
      "Current Temp: 20°C\n",
      "Minimum Temperature: 20°C\n",
      "Maximum Temperature: 20°C\n",
      "Humidity: 42%\n",
      "Weather Description: broken clouds\n",
      "Predicted Future Temperature for Next Day: 23.219999313354492°C\n",
      "--------------------------------------------------\n",
      "\u001b[1m1/1\u001b[0m \u001b[32m━━━━━━━━━━━━━━━━━━━━\u001b[0m\u001b[37m\u001b[0m \u001b[1m0s\u001b[0m 22ms/step\n",
      "Date: 2025-01-16 00:00:00\n",
      "City: Wardha, IN\n",
      "Current Temp: 19°C\n",
      "Minimum Temperature: 19°C\n",
      "Maximum Temperature: 19°C\n",
      "Humidity: 41%\n",
      "Weather Description: broken clouds\n",
      "Predicted Future Temperature for Next Day: 23.18000030517578°C\n",
      "--------------------------------------------------\n",
      "\u001b[1m1/1\u001b[0m \u001b[32m━━━━━━━━━━━━━━━━━━━━\u001b[0m\u001b[37m\u001b[0m \u001b[1m0s\u001b[0m 22ms/step\n",
      "Date: 2025-01-16 03:00:00\n",
      "City: Wardha, IN\n",
      "Current Temp: 21°C\n",
      "Minimum Temperature: 21°C\n",
      "Maximum Temperature: 21°C\n",
      "Humidity: 40%\n",
      "Weather Description: broken clouds\n",
      "Predicted Future Temperature for Next Day: 23.15999984741211°C\n",
      "--------------------------------------------------\n",
      "\u001b[1m1/1\u001b[0m \u001b[32m━━━━━━━━━━━━━━━━━━━━\u001b[0m\u001b[37m\u001b[0m \u001b[1m0s\u001b[0m 20ms/step\n",
      "Date: 2025-01-16 06:00:00\n",
      "City: Wardha, IN\n",
      "Current Temp: 27°C\n",
      "Minimum Temperature: 27°C\n",
      "Maximum Temperature: 27°C\n",
      "Humidity: 33%\n",
      "Weather Description: overcast clouds\n",
      "Predicted Future Temperature for Next Day: 23.15999984741211°C\n",
      "--------------------------------------------------\n",
      "\u001b[1m1/1\u001b[0m \u001b[32m━━━━━━━━━━━━━━━━━━━━\u001b[0m\u001b[37m\u001b[0m \u001b[1m0s\u001b[0m 22ms/step\n",
      "Date: 2025-01-16 09:00:00\n",
      "City: Wardha, IN\n",
      "Current Temp: 30°C\n",
      "Minimum Temperature: 30°C\n",
      "Maximum Temperature: 30°C\n",
      "Humidity: 28%\n",
      "Weather Description: scattered clouds\n",
      "Predicted Future Temperature for Next Day: 23.15999984741211°C\n",
      "--------------------------------------------------\n",
      "\u001b[1m1/1\u001b[0m \u001b[32m━━━━━━━━━━━━━━━━━━━━\u001b[0m\u001b[37m\u001b[0m \u001b[1m0s\u001b[0m 21ms/step\n",
      "Date: 2025-01-16 12:00:00\n",
      "City: Wardha, IN\n",
      "Current Temp: 28°C\n",
      "Minimum Temperature: 28°C\n",
      "Maximum Temperature: 28°C\n",
      "Humidity: 34%\n",
      "Weather Description: broken clouds\n",
      "Predicted Future Temperature for Next Day: 23.06999969482422°C\n",
      "--------------------------------------------------\n",
      "\u001b[1m1/1\u001b[0m \u001b[32m━━━━━━━━━━━━━━━━━━━━\u001b[0m\u001b[37m\u001b[0m \u001b[1m0s\u001b[0m 22ms/step\n",
      "Date: 2025-01-16 15:00:00\n",
      "City: Wardha, IN\n",
      "Current Temp: 25°C\n",
      "Minimum Temperature: 25°C\n",
      "Maximum Temperature: 25°C\n",
      "Humidity: 38%\n",
      "Weather Description: overcast clouds\n",
      "Predicted Future Temperature for Next Day: 23.030000686645508°C\n",
      "--------------------------------------------------\n",
      "\u001b[1m1/1\u001b[0m \u001b[32m━━━━━━━━━━━━━━━━━━━━\u001b[0m\u001b[37m\u001b[0m \u001b[1m0s\u001b[0m 22ms/step\n",
      "Date: 2025-01-16 18:00:00\n",
      "City: Wardha, IN\n",
      "Current Temp: 23°C\n",
      "Minimum Temperature: 23°C\n",
      "Maximum Temperature: 23°C\n",
      "Humidity: 41%\n",
      "Weather Description: scattered clouds\n",
      "Predicted Future Temperature for Next Day: 22.979999542236328°C\n",
      "--------------------------------------------------\n",
      "\u001b[1m1/1\u001b[0m \u001b[32m━━━━━━━━━━━━━━━━━━━━\u001b[0m\u001b[37m\u001b[0m \u001b[1m0s\u001b[0m 23ms/step\n",
      "Date: 2025-01-16 21:00:00\n",
      "City: Wardha, IN\n",
      "Current Temp: 22°C\n",
      "Minimum Temperature: 22°C\n",
      "Maximum Temperature: 22°C\n",
      "Humidity: 43%\n",
      "Weather Description: broken clouds\n",
      "Predicted Future Temperature for Next Day: 22.889999389648438°C\n",
      "--------------------------------------------------\n",
      "\u001b[1m1/1\u001b[0m \u001b[32m━━━━━━━━━━━━━━━━━━━━\u001b[0m\u001b[37m\u001b[0m \u001b[1m0s\u001b[0m 22ms/step\n",
      "Date: 2025-01-17 00:00:00\n",
      "City: Wardha, IN\n",
      "Current Temp: 20°C\n",
      "Minimum Temperature: 20°C\n",
      "Maximum Temperature: 20°C\n",
      "Humidity: 49%\n",
      "Weather Description: broken clouds\n",
      "Predicted Future Temperature for Next Day: 22.81999969482422°C\n",
      "--------------------------------------------------\n",
      "\u001b[1m1/1\u001b[0m \u001b[32m━━━━━━━━━━━━━━━━━━━━\u001b[0m\u001b[37m\u001b[0m \u001b[1m0s\u001b[0m 21ms/step\n",
      "Date: 2025-01-17 03:00:00\n",
      "City: Wardha, IN\n",
      "Current Temp: 22°C\n",
      "Minimum Temperature: 22°C\n",
      "Maximum Temperature: 22°C\n",
      "Humidity: 46%\n",
      "Weather Description: overcast clouds\n",
      "Predicted Future Temperature for Next Day: 22.809999465942383°C\n",
      "--------------------------------------------------\n",
      "\u001b[1m1/1\u001b[0m \u001b[32m━━━━━━━━━━━━━━━━━━━━\u001b[0m\u001b[37m\u001b[0m \u001b[1m0s\u001b[0m 21ms/step\n",
      "Date: 2025-01-17 06:00:00\n",
      "City: Wardha, IN\n",
      "Current Temp: 28°C\n",
      "Minimum Temperature: 28°C\n",
      "Maximum Temperature: 28°C\n",
      "Humidity: 27%\n",
      "Weather Description: overcast clouds\n",
      "Predicted Future Temperature for Next Day: 22.84000015258789°C\n",
      "--------------------------------------------------\n"
     ]
    }
   ],
   "source": [
    "weather_view()"
   ]
  },
  {
   "cell_type": "code",
   "execution_count": null,
   "id": "f0b97039",
   "metadata": {
    "papermill": {
     "duration": 0.019173,
     "end_time": "2025-01-12T07:16:37.623289",
     "exception": false,
     "start_time": "2025-01-12T07:16:37.604116",
     "status": "completed"
    },
    "tags": []
   },
   "outputs": [],
   "source": []
  }
 ],
 "metadata": {
  "kaggle": {
   "accelerator": "none",
   "dataSources": [
    {
     "datasetId": 6464569,
     "sourceId": 10444035,
     "sourceType": "datasetVersion"
    }
   ],
   "dockerImageVersionId": 30822,
   "isGpuEnabled": false,
   "isInternetEnabled": true,
   "language": "python",
   "sourceType": "notebook"
  },
  "kernelspec": {
   "display_name": "Python 3",
   "language": "python",
   "name": "python3"
  },
  "language_info": {
   "codemirror_mode": {
    "name": "ipython",
    "version": 3
   },
   "file_extension": ".py",
   "mimetype": "text/x-python",
   "name": "python",
   "nbconvert_exporter": "python",
   "pygments_lexer": "ipython3",
   "version": "3.10.12"
  },
  "papermill": {
   "default_parameters": {},
   "duration": 26.961505,
   "end_time": "2025-01-12T07:16:40.396640",
   "environment_variables": {},
   "exception": null,
   "input_path": "__notebook__.ipynb",
   "output_path": "__notebook__.ipynb",
   "parameters": {},
   "start_time": "2025-01-12T07:16:13.435135",
   "version": "2.6.0"
  }
 },
 "nbformat": 4,
 "nbformat_minor": 5
}
